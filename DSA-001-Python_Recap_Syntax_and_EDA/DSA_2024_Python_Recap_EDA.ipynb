{
  "cells": [
    {
      "cell_type": "markdown",
      "metadata": {
        "id": "HNTBgtOLgLyY"
      },
      "source": [
        "## DAC(DSA): Recap to Python - Part 2\n",
        "### Exploratory Data Analysis"
      ]
    },
    {
      "cell_type": "code",
      "execution_count": 1,
      "metadata": {
        "id": "yNKPBDvgViTh"
      },
      "outputs": [],
      "source": [
        "import pandas as pd\n",
        "import seaborn as sns\n",
        "import numpy as np\n",
        "import matplotlib.pyplot as plt"
      ]
    },
    {
      "cell_type": "markdown",
      "metadata": {
        "id": "gEyMH6nrV5Y8"
      },
      "source": [
        "## Step Process\n",
        "1. Load Data\n",
        "2. Inspect Data\n",
        "3. Clean Data (if needed)\n",
        "4. Explore + Visualise Data\n",
        "5. Derive insights from Data Exploration/Visualisation"
      ]
    },
    {
      "cell_type": "markdown",
      "metadata": {
        "id": "PTcprhAQWQgA"
      },
      "source": [
        "### Example 1: Forbes 2022 Dataset on Billionaires|"
      ]
    },
    {
      "cell_type": "markdown",
      "metadata": {
        "id": "S3jz6Jbhgq6l"
      },
      "source": [
        "#### 1. Load Data"
      ]
    },
    {
      "cell_type": "code",
      "execution_count": null,
      "metadata": {
        "colab": {
          "base_uri": "https://localhost:8080/",
          "height": 423
        },
        "id": "fPbuxzJdVvB-",
        "outputId": "6c081aa6-5017-4629-de3a-0bf8b30248f4"
      },
      "outputs": [],
      "source": [
        "%pip install gdown\n",
        "import gdown\n",
        "\n",
        "def download_from_gdrive(file_id, output_name):\n",
        "    url = f'https://drive.google.com/uc?id={file_id}'\n",
        "    gdown.download(url, output_name, quiet=False)\n",
        "    \n",
        "forbes_id = '1M87zZudeEPAPQ-47_Tg-cFpUikrGH9eX'\n",
        "forbes_output = '2022_forbes_billionaires.csv'\n",
        "download_from_gdrive(forbes_id, forbes_output)\n",
        "\n",
        "forbes = pd.read_csv('2022_forbes_billionaires.csv')\n",
        "forbes"
      ]
    },
    {
      "cell_type": "markdown",
      "metadata": {
        "id": "745zRJ8agunC"
      },
      "source": [
        "#### 2. Inspect Data"
      ]
    },
    {
      "cell_type": "code",
      "execution_count": null,
      "metadata": {
        "colab": {
          "base_uri": "https://localhost:8080/"
        },
        "id": "aOl8fsH6W51W",
        "outputId": "69466bb9-7c30-4b06-90b2-7c5f8ec05444"
      },
      "outputs": [],
      "source": [
        "forbes.duplicated() #If True, means duplicate"
      ]
    },
    {
      "cell_type": "code",
      "execution_count": null,
      "metadata": {
        "colab": {
          "base_uri": "https://localhost:8080/"
        },
        "id": "SFQOa_IwW8m-",
        "outputId": "d830e4b8-0542-4b1c-cad5-a4302c405dc3"
      },
      "outputs": [],
      "source": [
        "forbes.duplicated().sum()"
      ]
    },
    {
      "cell_type": "code",
      "execution_count": null,
      "metadata": {
        "colab": {
          "base_uri": "https://localhost:8080/"
        },
        "id": "BYiWkQ46XEb5",
        "outputId": "294dd423-903f-4cf7-db4c-ffdcff3e8166"
      },
      "outputs": [],
      "source": [
        "forbes.isnull().sum()"
      ]
    },
    {
      "cell_type": "code",
      "execution_count": 11,
      "metadata": {
        "id": "nsRhAbMEalv8"
      },
      "outputs": [],
      "source": [
        "#if has null value\n",
        "#forbes.dropna()"
      ]
    },
    {
      "cell_type": "code",
      "execution_count": null,
      "metadata": {
        "colab": {
          "base_uri": "https://localhost:8080/"
        },
        "id": "-SKw9TcOXIAr",
        "outputId": "49659bee-b129-43a1-f89a-d9c81a062f0e"
      },
      "outputs": [],
      "source": [
        "#Check data type, see if the type makes sense\n",
        "forbes.info()"
      ]
    },
    {
      "cell_type": "markdown",
      "metadata": {
        "id": "D_s1D22ig4S_"
      },
      "source": [
        "#### 3. Clean Data"
      ]
    },
    {
      "cell_type": "code",
      "execution_count": null,
      "metadata": {
        "colab": {
          "base_uri": "https://localhost:8080/"
        },
        "id": "gUh5_VK9XjQt",
        "outputId": "603efde5-7299-481b-c8d0-95a214a296ec"
      },
      "outputs": [],
      "source": [
        "#Dtype is object indicates a generic type that can represent any Python object, including string, numbers..\n",
        "#for a dataframe in pandas, it usually represents string\n",
        "\n",
        "#Replace the $ and B with empty string\n",
        "#str.replace(oldvalue,newvalue,count)\n",
        "forbes['networth'] = forbes['networth'].str.replace('$','')\n",
        "forbes['networth'] = forbes['networth'].str.replace('B','')\n",
        "\n",
        "#OR\n",
        "'''\n",
        "\"\\$(\\d+).*\" - is a regex string that is pattern to find its mathing text\n",
        "\n",
        "Each character has its own Expression. Eg: '\\d' is a expression for any digit , '+' is to find one or more  , '.' is any single character\n",
        "\n",
        "\"https://regex101.com/\" , you can use this site to test out regular expression as well as more information\n",
        "\n",
        "'''\n",
        "#forbes['networth'] = forbes['networth'].str.extract(r'\\$(\\d+).*')\n",
        "\n",
        "#Change type to numeric\n",
        "forbes['networth'] = pd.to_numeric(forbes['networth'])\n",
        "#OR forbes['networth'] = forbes['networth'].apply(pd.to_numeric)"
      ]
    },
    {
      "cell_type": "markdown",
      "metadata": {
        "id": "S98esECag_5s"
      },
      "source": [
        "#### 4. Explore Data"
      ]
    },
    {
      "cell_type": "code",
      "execution_count": null,
      "metadata": {
        "colab": {
          "base_uri": "https://localhost:8080/",
          "height": 206
        },
        "id": "E18asV1vYI9d",
        "outputId": "8bf8acff-3362-468f-ee1f-d889fe26405c"
      },
      "outputs": [],
      "source": [
        "forbes.head()"
      ]
    },
    {
      "cell_type": "code",
      "execution_count": null,
      "metadata": {
        "colab": {
          "base_uri": "https://localhost:8080/"
        },
        "id": "vyPuURZZYcAr",
        "outputId": "947eabd3-3834-4724-917d-6b11aa9eb806"
      },
      "outputs": [],
      "source": [
        "# Finding the industry with the highest number of billionaires\n",
        "#value_counts() counts the frequency of unique values in specific columns of a dataframe\n",
        "forbes['industry'].value_counts().sort_index()"
      ]
    },
    {
      "cell_type": "code",
      "execution_count": null,
      "metadata": {
        "colab": {
          "base_uri": "https://localhost:8080/"
        },
        "id": "bBm50NQtYznW",
        "outputId": "d64deb66-1be0-4da3-f788-d71ba2c0e633"
      },
      "outputs": [],
      "source": [
        "# To display the top 5 industries with the most number of billionaires\n",
        "forbes['industry'].value_counts()[:5]"
      ]
    },
    {
      "cell_type": "code",
      "execution_count": null,
      "metadata": {
        "colab": {
          "base_uri": "https://localhost:8080/",
          "height": 612
        },
        "id": "KayBfo93ZFtY",
        "outputId": "5756324d-41d1-4bfd-804a-9b2d209f3bfc"
      },
      "outputs": [],
      "source": [
        "# show the number of billionaires in each industry with bar chart\n",
        "forbes['industry'].value_counts().plot(kind = 'bar')\n",
        "\n",
        "plt.show()"
      ]
    },
    {
      "cell_type": "code",
      "execution_count": null,
      "metadata": {
        "colab": {
          "base_uri": "https://localhost:8080/",
          "height": 430
        },
        "id": "VE2oxd_wZmlN",
        "outputId": "622f495f-c776-47a2-b791-edbad9013769"
      },
      "outputs": [],
      "source": [
        "forbes['industry'].value_counts().plot(kind = 'barh') #Horizontal bar\n",
        "plt.show()"
      ]
    },
    {
      "cell_type": "code",
      "execution_count": null,
      "metadata": {
        "colab": {
          "base_uri": "https://localhost:8080/",
          "height": 430
        },
        "id": "4YT9BwjKZsl6",
        "outputId": "4fe5c872-756b-4a67-9156-85d635366f62"
      },
      "outputs": [],
      "source": [
        "forbes['industry'].value_counts()[:5].plot(kind = 'barh')\n",
        "plt.show()"
      ]
    },
    {
      "cell_type": "code",
      "execution_count": null,
      "metadata": {
        "colab": {
          "base_uri": "https://localhost:8080/"
        },
        "id": "CTO16LAqZ0m4",
        "outputId": "e97f997d-75ff-4a23-9698-c3ce4a4ec802"
      },
      "outputs": [],
      "source": [
        "# Finding the country with the highest number of billionaires\n",
        "\n",
        "forbes['country'].value_counts()"
      ]
    },
    {
      "cell_type": "code",
      "execution_count": null,
      "metadata": {
        "colab": {
          "base_uri": "https://localhost:8080/"
        },
        "id": "MIGWloAgaLER",
        "outputId": "3d2bdf66-2150-4fd7-fb32-6889217157a7"
      },
      "outputs": [],
      "source": [
        "#display the top 3 countries with the most billionaries\n",
        "forbes['country'].value_counts()[0:3]"
      ]
    },
    {
      "cell_type": "code",
      "execution_count": null,
      "metadata": {
        "colab": {
          "base_uri": "https://localhost:8080/",
          "height": 510
        },
        "id": "XIRJ_YBAagjW",
        "outputId": "4a2da69b-085c-4c5b-ac7c-a1dfcd9880c7"
      },
      "outputs": [],
      "source": [
        "forbes['country'].value_counts()[0:5].plot(kind = 'bar')\n",
        "\n",
        "plt.show()"
      ]
    },
    {
      "cell_type": "code",
      "execution_count": null,
      "metadata": {
        "colab": {
          "base_uri": "https://localhost:8080/",
          "height": 676
        },
        "id": "tnojr-qBbMF_",
        "outputId": "741a93b0-e9ef-41f1-d071-1e6c2e28ca42"
      },
      "outputs": [],
      "source": [
        "# Find the billionaires with networth more than 60 billion dollars\n",
        "#To filter a dataframe base on a condition, we need to use dataframe[condition] where the condition is a boolean expression\n",
        "#condition=forbes['networth']>=60,True-more than or equal 60, False-less than 60\n",
        "forbes[forbes['networth'] >= 60]\n",
        "\n",
        "# OR\n",
        "\n",
        "forbes.query('networth >= 60 ')"
      ]
    },
    {
      "cell_type": "markdown",
      "metadata": {},
      "source": [
        "# Find the top 5 youngest billionaires"
      ]
    },
    {
      "cell_type": "code",
      "execution_count": null,
      "metadata": {
        "colab": {
          "base_uri": "https://localhost:8080/"
        },
        "id": "K0daHMcucdip",
        "outputId": "75b15ed4-51df-4a4c-e134-19f91bedde15"
      },
      "outputs": [],
      "source": [
        "# rearrange the dataframe by ascending or descending order of specific column\n",
        "#parameter of sort_values: by-specify label to sort by, axis:0 or 1, ascending:True or False\n",
        "forbes.sort_values(by=['age'])"
      ]
    },
    {
      "cell_type": "code",
      "execution_count": null,
      "metadata": {
        "colab": {
          "base_uri": "https://localhost:8080/"
        },
        "id": "algQ_z9Ecmsl",
        "outputId": "600addf2-6732-4a57-c399-909cc3d9655b"
      },
      "outputs": [],
      "source": [
        "forbes.sort_values(by = ['age'])[:5]"
      ]
    },
    {
      "cell_type": "code",
      "execution_count": null,
      "metadata": {
        "colab": {
          "base_uri": "https://localhost:8080/",
          "height": 833
        },
        "id": "aiW0j3F4ddZ4",
        "outputId": "ad012bf9-8e9f-4b0e-eff8-636c49c88951"
      },
      "outputs": [],
      "source": [
        "# Finding the top 5 youngest people who have networth of more than 50 billion\n",
        "forbes_more_50 = forbes[forbes['networth'] >= 50]\n",
        "\n",
        "#Or\n",
        "forbes_more_50 = forbes.query('networth >= 50')\n",
        "\n",
        "forbes_more_50"
      ]
    },
    {
      "cell_type": "code",
      "execution_count": null,
      "metadata": {
        "colab": {
          "base_uri": "https://localhost:8080/"
        },
        "id": "gEo0lyzLdwxO",
        "outputId": "e3bd5f13-870e-4fb1-b698-3f12fd3f0d1b"
      },
      "outputs": [],
      "source": [
        "forbes_more_50.sort_values(by = ['age'])[0:5]"
      ]
    },
    {
      "cell_type": "code",
      "execution_count": null,
      "metadata": {
        "colab": {
          "base_uri": "https://localhost:8080/"
        },
        "id": "aGMO3LD9cHdG",
        "outputId": "f8079eb8-51bd-4f09-ed8e-41ac09a364b3"
      },
      "outputs": [],
      "source": [
        "#Using the method we used previously\n",
        "fig, ax = plt.subplots(figsize = (10,10))\n",
        "ax.hist(forbes.networth, bins = 20, edgecolor = 'black', color = 'yellow') \n",
        "# the higher the bin, the closer it is to the distribution plot which will be explained later\n",
        "plt.show() #Notice the graphs are still similar to each other"
      ]
    },
    {
      "cell_type": "markdown",
      "metadata": {
        "id": "D3CMdsgledTN"
      },
      "source": [
        "##### Data Visualisation - Distribution Plot\n",
        "- Shows how a variable in your data is distributed"
      ]
    },
    {
      "cell_type": "markdown",
      "metadata": {
        "id": "Xs3_fcZjqByu"
      },
      "source": [
        "# Distribution Plot\n",
        "\n",
        "> parameter:\n",
        "* data: dataframe name\n",
        "* x,y,hue: variable name\n",
        "* kind:{“hist”, “kde”, “ecdf”} hist by default, same as histplot(), kdeplot(), ecdfplot(univariate data only)\n",
        "* color, palette, height...\n",
        "\n",
        "1.   kernel density estimation:KDE represents the data using a continuous probability density curve, more smooth\n",
        "2.    empirical cumulative distribution function: represents the proportion or counts of observations\n"
      ]
    },
    {
      "cell_type": "code",
      "execution_count": null,
      "metadata": {
        "colab": {
          "base_uri": "https://localhost:8080/"
        },
        "id": "xejufrTReagm",
        "outputId": "da0aa71a-29e7-4f1e-aae9-569f49549205"
      },
      "outputs": [],
      "source": [
        "#Distribution plot of the age variable\n",
        "sns.displot(x = 'age', data = forbes)\n",
        "plt.show()"
      ]
    },
    {
      "cell_type": "code",
      "execution_count": null,
      "metadata": {
        "colab": {
          "base_uri": "https://localhost:8080/"
        },
        "id": "mq-JK0RjfF7j",
        "outputId": "a3375c12-025d-4d1f-c46c-9f704e7f787b"
      },
      "outputs": [],
      "source": [
        "sns.displot(x = 'age',hue='industry',kind='ecdf', data = forbes, stat='count',complementary=True)\n",
        "plt.show()"
      ]
    },
    {
      "cell_type": "markdown",
      "metadata": {
        "id": "2Hh7NsUlftPC"
      },
      "source": [
        "Observation from dataset:\n",
        "1. Most saturated industry/best industry (Finance & Investments)\n",
        "2. Country with the most opportunity (US) - may be too saturated\n",
        "3. Who to learn from (THose that really made it)\n",
        "4. Probable age for someone to get really rich (50-70 years old)"
      ]
    },
    {
      "cell_type": "markdown",
      "metadata": {
        "id": "-n_e6eCMmRiQ"
      },
      "source": [
        "### Example 2: Annual Sales 2018 Data"
      ]
    },
    {
      "cell_type": "markdown",
      "metadata": {
        "id": "PNa9tYcBhf1M"
      },
      "source": [
        "#### 1. Load Data"
      ]
    },
    {
      "cell_type": "code",
      "execution_count": null,
      "metadata": {
        "colab": {
          "base_uri": "https://localhost:8080/",
          "height": 206
        },
        "id": "G4DiGLZFg9Ng",
        "outputId": "6965aa2f-4c7c-462e-f039-4dff75580b2e"
      },
      "outputs": [],
      "source": [
        "data_id = '1S6rk62YIKLeX4DTUd-l5ImfNG9ZaoYhR'\n",
        "data_output = '2018_Annual_Sales.csv'\n",
        "download_from_gdrive(data_id, data_output)\n",
        "\n",
        "data = pd.read_csv('2018_Annual_Sales.csv')\n",
        "data.head()"
      ]
    },
    {
      "cell_type": "markdown",
      "metadata": {
        "id": "51DKtOeWhlgI"
      },
      "source": [
        "#### 2. Inspect Data"
      ]
    },
    {
      "cell_type": "code",
      "execution_count": null,
      "metadata": {
        "colab": {
          "base_uri": "https://localhost:8080/"
        },
        "id": "eKnFKiI8nieV",
        "outputId": "9d5ef896-a4d7-4939-a6cb-79c9d745905f"
      },
      "outputs": [],
      "source": [
        "data.info()"
      ]
    },
    {
      "cell_type": "markdown",
      "metadata": {
        "id": "B6VEowJ2hq3W"
      },
      "source": [
        "#### 3. Clean Data"
      ]
    },
    {
      "cell_type": "code",
      "execution_count": null,
      "metadata": {
        "colab": {
          "base_uri": "https://localhost:8080/"
        },
        "id": "x3uI9hQrnoaL",
        "outputId": "7e7529b3-9b51-4342-c946-179484ed02c3"
      },
      "outputs": [],
      "source": [
        "#Remove rows with missing values\n",
        "df = data.dropna()\n",
        "\n",
        "#Convert 'Quantity Ordered' and 'Price Each' to numeric\n",
        "df['Quantity Ordered'] = pd.to_numeric(df['Quantity Ordered'], errors='coerce')\n",
        "df['Price Each'] = pd.to_numeric(df['Price Each'], errors='coerce')\n",
        "\n",
        "#Convert 'Order Date' column into datetime type\n",
        "df['Order Date'] = pd.to_datetime(df['Order Date'], errors='coerce')\n",
        "\n",
        "#Remove any duplicate rows\n",
        "df = df.drop_duplicates()\n",
        "\n",
        "df.info()"
      ]
    },
    {
      "cell_type": "code",
      "execution_count": null,
      "metadata": {
        "colab": {
          "base_uri": "https://localhost:8080/",
          "height": 206
        },
        "id": "HJH1hwq5oAhn",
        "outputId": "e59b87b3-28ea-4764-b484-d036b51db82e"
      },
      "outputs": [],
      "source": [
        "df.head()"
      ]
    },
    {
      "cell_type": "markdown",
      "metadata": {
        "id": "FFdsR8izhzL8"
      },
      "source": [
        "#### 4. Explore Data"
      ]
    },
    {
      "cell_type": "code",
      "execution_count": null,
      "metadata": {
        "colab": {
          "base_uri": "https://localhost:8080/",
          "height": 206
        },
        "id": "AUL_CUbkok9K",
        "outputId": "3ce27ae3-c0fb-406f-b398-d293f75dfe11"
      },
      "outputs": [],
      "source": [
        "# series.dt can be used to access the values of the series as datetimelike and return several properties\n",
        "#dt.year will return year, dt.weekday will return the day of week\n",
        "df['Year'] = df['Order Date'].dt.year\n",
        "df.head()"
      ]
    },
    {
      "cell_type": "code",
      "execution_count": null,
      "metadata": {
        "colab": {
          "base_uri": "https://localhost:8080/",
          "height": 206
        },
        "id": "EHC6nTTKpamd",
        "outputId": "badf861e-8f38-4075-e378-6c33c68a10ef"
      },
      "outputs": [],
      "source": [
        "#Which month had the best sales?\n",
        "df['Month'] = df['Order Date'].dt.month\n",
        "df.head()"
      ]
    },
    {
      "cell_type": "code",
      "execution_count": null,
      "metadata": {
        "colab": {
          "base_uri": "https://localhost:8080/",
          "height": 206
        },
        "id": "CQyqUhe-p942",
        "outputId": "1b171123-1e57-4cdc-ef3b-2ad268fd0e5a"
      },
      "outputs": [],
      "source": [
        "#creat a new column called Sale\n",
        "df['Sales'] = df['Price Each']*df['Quantity Ordered']\n",
        "df.head()"
      ]
    },
    {
      "cell_type": "code",
      "execution_count": null,
      "metadata": {
        "colab": {
          "base_uri": "https://localhost:8080/"
        },
        "id": "33TRyDgpq3gf",
        "outputId": "8e540e56-bdb6-47c6-a974-c8fd9b5b869c"
      },
      "outputs": [],
      "source": [
        "#Extract month from 'Order Date'\n",
        "df['Month'] = df['Order Date'].dt.month\n",
        "\n",
        "#Group by 'Month'\n",
        "groupby_month = df.groupby('Month')\n",
        "\n",
        "#Sum sales for each month\n",
        "gross_sales_by_month = groupby_month['Sales'].sum().sort_values()\n",
        "\n",
        "#Display result\n",
        "print(gross_sales_by_month)\n"
      ]
    },
    {
      "cell_type": "code",
      "execution_count": null,
      "metadata": {
        "id": "uiGs_i16m9Wx"
      },
      "outputs": [],
      "source": [
        "#here Month is index label not variable\n",
        "gross_sales_by_month.index"
      ]
    },
    {
      "cell_type": "markdown",
      "metadata": {
        "id": "rGnn1mEBvjzm"
      },
      "source": [
        "#### Data Visualisation"
      ]
    },
    {
      "cell_type": "code",
      "execution_count": null,
      "metadata": {
        "colab": {
          "base_uri": "https://localhost:8080/",
          "height": 445
        },
        "id": "0qFGyJCDs8jZ",
        "outputId": "eb7ececf-6ac8-4b49-f373-3bd289720d8a"
      },
      "outputs": [],
      "source": [
        "#Data Visualisation\n",
        "plt.bar(gross_sales_by_month.index, gross_sales_by_month)\n",
        "plt.show()"
      ]
    },
    {
      "cell_type": "code",
      "execution_count": null,
      "metadata": {
        "colab": {
          "base_uri": "https://localhost:8080/",
          "height": 206
        },
        "id": "38e7AQTauZk8",
        "outputId": "ec22a2c6-52e6-46c1-90da-362fab55d9ec"
      },
      "outputs": [],
      "source": [
        "def city_from_address(address):\n",
        "    try:\n",
        "        # Split the address by commas\n",
        "        substrs = address.split(',')\n",
        "        \n",
        "        # Ensure there are at least 2 parts (city is the second part)\n",
        "        if len(substrs) >= 2:\n",
        "            city = substrs[1].strip()\n",
        "        else:\n",
        "            city = None  # Return None if the format is unexpected\n",
        "    except Exception as e:\n",
        "        city = None  # If something goes wrong, return None\n",
        "    \n",
        "    return city\n",
        "\n",
        "# Apply the function to create a new 'City' column\n",
        "df['City'] = df['Purchase Address'].apply(city_from_address)\n",
        "\n",
        "# Check the first few rows of the dataframe\n",
        "df.head()\n"
      ]
    },
    {
      "cell_type": "code",
      "execution_count": null,
      "metadata": {
        "colab": {
          "base_uri": "https://localhost:8080/"
        },
        "id": "saHrBm1fvg4T",
        "outputId": "2cc91df7-5204-4cf3-fa80-e6d588c2a713"
      },
      "outputs": [],
      "source": [
        "# Group by city\n",
        "groupby_city = df.groupby('City')\n",
        "\n",
        "# Sum only the 'Sales' column for each city\n",
        "gross_sales_by_city = groupby_city['Sales'].sum()\n",
        "\n",
        "# Display the result\n",
        "print(gross_sales_by_city)"
      ]
    },
    {
      "cell_type": "code",
      "execution_count": null,
      "metadata": {
        "colab": {
          "base_uri": "https://localhost:8080/",
          "height": 526
        },
        "id": "C9AWLTPFwOL2",
        "outputId": "984bd863-d350-4e39-ad36-1da4668ef323"
      },
      "outputs": [],
      "source": [
        "plt.bar(gross_sales_by_city.index,gross_sales_by_city)\n",
        "\n",
        "plt.xticks(rotation = 90)\n",
        "plt.show()"
      ]
    },
    {
      "cell_type": "code",
      "execution_count": null,
      "metadata": {
        "colab": {
          "base_uri": "https://localhost:8080/"
        },
        "id": "NVjBL0VGws73",
        "outputId": "89e766b9-c344-434c-d119-61ab20321d84"
      },
      "outputs": [],
      "source": [
        "#Which city makes the best sales across all 12 months\n",
        "\n",
        "#Extract month from 'Order Date' if not already done\n",
        "df['Month'] = df['Order Date'].dt.month\n",
        "\n",
        "#Group by both 'Month' and 'City' and sum the 'Sales' column\n",
        "groupby_data = df.groupby(['Month', 'City'])['Sales'].sum()\n",
        "\n",
        "#Display the result\n",
        "print(groupby_data)\n",
        "\n",
        "\n",
        "\n"
      ]
    },
    {
      "cell_type": "code",
      "execution_count": null,
      "metadata": {},
      "outputs": [],
      "source": [
        "#Sum sales by city across all months\n",
        "total_sales_by_city = groupby_data.groupby('City').sum()\n",
        "\n",
        "#Sort cities by total sales and find the city with the highest sales\n",
        "best_city = total_sales_by_city.sort_values(ascending=False).head(1)\n",
        "\n",
        "#Display the result\n",
        "print(best_city)"
      ]
    },
    {
      "cell_type": "code",
      "execution_count": null,
      "metadata": {
        "colab": {
          "base_uri": "https://localhost:8080/"
        },
        "id": "71ZkD3Zmxwmm",
        "outputId": "987e30c1-14d3-49d0-dc94-43fd05ea15ad"
      },
      "outputs": [],
      "source": [
        "#display information of gross sales in every city for 1st 3 months\n",
        "#loc, accedd a group of rows based on positional index\n",
        "# group_data.loc[3,:] means select a specific row based on 3 and all its columns\n",
        "#why use []? In pandas, using [] to access elements form df, () for function calls\n",
        "groupby_data.loc[1:3, : ]"
      ]
    },
    {
      "cell_type": "code",
      "execution_count": null,
      "metadata": {
        "colab": {
          "base_uri": "https://localhost:8080/"
        },
        "id": "xAKu2BX3x7vU",
        "outputId": "9740ff80-8ba2-4100-a6dd-cfc8d0799500"
      },
      "outputs": [],
      "source": [
        "# Can query individual cities (Example: Atlanta)\n",
        "groupby_data.loc[1:3,'Atlanta']"
      ]
    },
    {
      "cell_type": "code",
      "execution_count": null,
      "metadata": {
        "colab": {
          "base_uri": "https://localhost:8080/"
        },
        "id": "uLMMgstpyjbP",
        "outputId": "6d8bfbc6-b99a-4193-e389-e778fdd19757"
      },
      "outputs": [],
      "source": [
        "#query each month sales for specific city\n",
        "groupby_data.loc[:,'Boston']"
      ]
    },
    {
      "cell_type": "markdown",
      "metadata": {
        "id": "UJxUqHPks1le"
      },
      "source": [
        "# create a line chart to show how the sale change in each city for 12 months?"
      ]
    },
    {
      "cell_type": "code",
      "execution_count": null,
      "metadata": {
        "colab": {
          "base_uri": "https://localhost:8080/"
        },
        "id": "_4PzKSipyxJO",
        "outputId": "188cb766-890a-4543-e523-43f41284e0a2"
      },
      "outputs": [],
      "source": [
        "# Get a list of cities\n",
        "cities = df['City'].unique() #so there will be no duplicate\n",
        "cities"
      ]
    },
    {
      "cell_type": "code",
      "execution_count": null,
      "metadata": {},
      "outputs": [],
      "source": [
        "fig, ax = plt.subplots(figsize=(15, 8))\n",
        "\n",
        "for city in cities:\n",
        "    #Check if the city exists in the groupby_data index,\n",
        "    #the get_level_values() method in Pandas is used to access the values of a specific level from a MultiIndex.\n",
        "    if city in groupby_data.index.get_level_values('City'):\n",
        "        \n",
        "        #Get the city's 12 months of sales\n",
        "        current_sales = groupby_data.xs(city, level='City')\n",
        "        #The .xs() method is used to filter a specific level of a MultiIndex (in this case, City). \n",
        "\n",
        "        #Plot line plot for this city\n",
        "        ax.plot(current_sales.index, current_sales.values, label=city)  # Month on x-axis, Sales on y-axis\n",
        "    else:\n",
        "        print(f\"City '{city}' not found in groupby_data.\")\n",
        "\n",
        "plt.grid()\n",
        "plt.legend()\n",
        "plt.title(\"Sales by City Across 12 Months\")\n",
        "plt.xlabel(\"Month\")\n",
        "plt.ylabel(\"Sales\")\n",
        "plt.show()\n"
      ]
    }
  ],
  "metadata": {
    "colab": {
      "collapsed_sections": [
        "HNTBgtOLgLyY"
      ],
      "provenance": []
    },
    "kernelspec": {
      "display_name": "Python 3",
      "name": "python3"
    },
    "language_info": {
      "codemirror_mode": {
        "name": "ipython",
        "version": 3
      },
      "file_extension": ".py",
      "mimetype": "text/x-python",
      "name": "python",
      "nbconvert_exporter": "python",
      "pygments_lexer": "ipython3",
      "version": "3.12.1"
    }
  },
  "nbformat": 4,
  "nbformat_minor": 0
}
